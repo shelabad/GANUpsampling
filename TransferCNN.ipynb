{
 "cells": [
  {
   "cell_type": "code",
   "execution_count": 1,
   "source": [
    "import os\r\n",
    "import numpy as np\r\n",
    "import torch\r\n",
    "import matplotlib.pyplot as plt\r\n",
    "import torchvision\r\n",
    "\r\n",
    "from torchvision import datasets, models, transforms\r\n",
    "from torch.utils.checkpoint import checkpoint_sequential\r\n",
    "\r\n",
    "\r\n",
    "%matplotlib inline"
   ],
   "outputs": [],
   "metadata": {}
  },
  {
   "cell_type": "code",
   "execution_count": 2,
   "source": [
    "# check if CUDA is available\r\n",
    "train_on_gpu = torch.cuda.is_available()\r\n",
    "\r\n",
    "if not train_on_gpu:\r\n",
    "    print('CUDA is not available.  Training on CPU ...')\r\n",
    "else:\r\n",
    "    print('CUDA is available!  Training on GPU ...')"
   ],
   "outputs": [
    {
     "output_type": "stream",
     "name": "stdout",
     "text": [
      "CUDA is available!  Training on GPU ...\n"
     ]
    }
   ],
   "metadata": {}
  },
  {
   "cell_type": "code",
   "execution_count": 3,
   "source": [
    "from torchvision import datasets\r\n",
    "import torchvision.transforms as transforms\r\n",
    "from torch.utils.data.sampler import SubsetRandomSampler\r\n",
    "\r\n",
    "# number of subprocesses to use for data loading\r\n",
    "num_workers = 0\r\n",
    "# how many samples per batch to load\r\n",
    "batch_size = 20\r\n",
    "# percentage of training set to use as validation\r\n",
    "valid_size = 0.2\r\n",
    "#data directory\r\n",
    "data_dir = \"C:/Users/Selab/Downloads/archive/food-101/food-101/images\"\r\n",
    "\r\n",
    "# convert data to a normalized torch.FloatTensor\r\n",
    "transform = transforms.Compose([transforms.Resize((224,244)), \r\n",
    "                                      transforms.ToTensor(),\r\n",
    "                                      transforms.RandomHorizontalFlip(),\r\n",
    "                                      transforms.RandomRotation(45),\r\n",
    "                                      transforms.Normalize(0.485,0.229)])\r\n",
    "\r\n",
    "# choose the training and test datasets\r\n",
    "train_data = datasets.ImageFolder(data_dir + '/Train', transform=transform)\r\n",
    "test_data = datasets.ImageFolder(data_dir + '/Test', transform=transform)\r\n",
    "\r\n",
    "# obtain training indices that will be used for validation\r\n",
    "num_train = len(train_data)\r\n",
    "indices = list(range(num_train))\r\n",
    "np.random.shuffle(indices)\r\n",
    "split = int(np.floor(valid_size * num_train))\r\n",
    "train_idx, valid_idx = indices[split:], indices[:split]\r\n",
    "\r\n",
    "# define samplers for obtaining training and validation batches\r\n",
    "train_sampler = SubsetRandomSampler(train_idx)\r\n",
    "valid_sampler = SubsetRandomSampler(valid_idx)\r\n",
    "\r\n",
    "# prepare data loaders (combine dataset and sampler)\r\n",
    "train_loader = torch.utils.data.DataLoader(train_data, batch_size=batch_size,\r\n",
    "    sampler=train_sampler, num_workers=num_workers)\r\n",
    "valid_loader = torch.utils.data.DataLoader(train_data, batch_size=batch_size, \r\n",
    "    sampler=valid_sampler, num_workers=num_workers)\r\n",
    "test_loader = torch.utils.data.DataLoader(test_data, batch_size=batch_size, \r\n",
    "    num_workers=num_workers)\r\n",
    "\r\n",
    "# specify the image classes\r\n",
    "classes = ['Apple_pie','Chicken_wings','Salmon','Steak']\r\n",
    "\r\n",
    "# print out some data stats\r\n",
    "print('Num training images: ', len(train_data))\r\n",
    "print('Num test images: ', len(test_data))"
   ],
   "outputs": [
    {
     "output_type": "stream",
     "name": "stdout",
     "text": [
      "Num training images:  3000\n",
      "Num test images:  1000\n"
     ]
    }
   ],
   "metadata": {}
  },
  {
   "cell_type": "code",
   "execution_count": 4,
   "source": [
    "# # Visualize some sample data\r\n",
    "\r\n",
    "# # obtain one batch of training images\r\n",
    "# dataiter = iter(train_loader)\r\n",
    "# images, labels = dataiter.next()\r\n",
    "# images = images.numpy() # convert images to numpy for display\r\n",
    "\r\n",
    "# # plot the images in the batch, along with the corresponding labels\r\n",
    "# fig = plt.figure(figsize=(25, 4))\r\n",
    "# for idx in np.arange(batch_size):\r\n",
    "#     ax = fig.add_subplot(2, 20/2, idx+1, xticks=[], yticks=[])\r\n",
    "#     plt.imshow(np.transpose(images[idx], (1, 2, 0)))\r\n",
    "#     ax.set_title(classes[labels[idx]])"
   ],
   "outputs": [],
   "metadata": {}
  },
  {
   "cell_type": "code",
   "execution_count": 5,
   "source": [
    "# Load the pretrained model from pytorch\r\n",
    "vgg16 = models.vgg16(pretrained=True)\r\n",
    "\r\n",
    "# print out the model structure\r\n",
    "print(vgg16)"
   ],
   "outputs": [
    {
     "output_type": "stream",
     "name": "stdout",
     "text": [
      "VGG(\n",
      "  (features): Sequential(\n",
      "    (0): Conv2d(3, 64, kernel_size=(3, 3), stride=(1, 1), padding=(1, 1))\n",
      "    (1): ReLU(inplace=True)\n",
      "    (2): Conv2d(64, 64, kernel_size=(3, 3), stride=(1, 1), padding=(1, 1))\n",
      "    (3): ReLU(inplace=True)\n",
      "    (4): MaxPool2d(kernel_size=2, stride=2, padding=0, dilation=1, ceil_mode=False)\n",
      "    (5): Conv2d(64, 128, kernel_size=(3, 3), stride=(1, 1), padding=(1, 1))\n",
      "    (6): ReLU(inplace=True)\n",
      "    (7): Conv2d(128, 128, kernel_size=(3, 3), stride=(1, 1), padding=(1, 1))\n",
      "    (8): ReLU(inplace=True)\n",
      "    (9): MaxPool2d(kernel_size=2, stride=2, padding=0, dilation=1, ceil_mode=False)\n",
      "    (10): Conv2d(128, 256, kernel_size=(3, 3), stride=(1, 1), padding=(1, 1))\n",
      "    (11): ReLU(inplace=True)\n",
      "    (12): Conv2d(256, 256, kernel_size=(3, 3), stride=(1, 1), padding=(1, 1))\n",
      "    (13): ReLU(inplace=True)\n",
      "    (14): Conv2d(256, 256, kernel_size=(3, 3), stride=(1, 1), padding=(1, 1))\n",
      "    (15): ReLU(inplace=True)\n",
      "    (16): MaxPool2d(kernel_size=2, stride=2, padding=0, dilation=1, ceil_mode=False)\n",
      "    (17): Conv2d(256, 512, kernel_size=(3, 3), stride=(1, 1), padding=(1, 1))\n",
      "    (18): ReLU(inplace=True)\n",
      "    (19): Conv2d(512, 512, kernel_size=(3, 3), stride=(1, 1), padding=(1, 1))\n",
      "    (20): ReLU(inplace=True)\n",
      "    (21): Conv2d(512, 512, kernel_size=(3, 3), stride=(1, 1), padding=(1, 1))\n",
      "    (22): ReLU(inplace=True)\n",
      "    (23): MaxPool2d(kernel_size=2, stride=2, padding=0, dilation=1, ceil_mode=False)\n",
      "    (24): Conv2d(512, 512, kernel_size=(3, 3), stride=(1, 1), padding=(1, 1))\n",
      "    (25): ReLU(inplace=True)\n",
      "    (26): Conv2d(512, 512, kernel_size=(3, 3), stride=(1, 1), padding=(1, 1))\n",
      "    (27): ReLU(inplace=True)\n",
      "    (28): Conv2d(512, 512, kernel_size=(3, 3), stride=(1, 1), padding=(1, 1))\n",
      "    (29): ReLU(inplace=True)\n",
      "    (30): MaxPool2d(kernel_size=2, stride=2, padding=0, dilation=1, ceil_mode=False)\n",
      "  )\n",
      "  (avgpool): AdaptiveAvgPool2d(output_size=(7, 7))\n",
      "  (classifier): Sequential(\n",
      "    (0): Linear(in_features=25088, out_features=4096, bias=True)\n",
      "    (1): ReLU(inplace=True)\n",
      "    (2): Dropout(p=0.5, inplace=False)\n",
      "    (3): Linear(in_features=4096, out_features=4096, bias=True)\n",
      "    (4): ReLU(inplace=True)\n",
      "    (5): Dropout(p=0.5, inplace=False)\n",
      "    (6): Linear(in_features=4096, out_features=1000, bias=True)\n",
      "  )\n",
      ")\n"
     ]
    }
   ],
   "metadata": {}
  },
  {
   "cell_type": "code",
   "execution_count": 6,
   "source": [
    "print(vgg16.classifier[6].in_features) \r\n",
    "print(vgg16.classifier[6].out_features) \r\n"
   ],
   "outputs": [
    {
     "output_type": "stream",
     "name": "stdout",
     "text": [
      "4096\n",
      "1000\n"
     ]
    }
   ],
   "metadata": {}
  },
  {
   "cell_type": "code",
   "execution_count": 7,
   "source": [
    "# Freeze training for all \"features\" layers\r\n",
    "for param in vgg16.features.parameters():\r\n",
    "    param.requires_grad = False\r\n",
    "    "
   ],
   "outputs": [],
   "metadata": {}
  },
  {
   "cell_type": "code",
   "execution_count": 8,
   "source": [
    "import torch.nn as nn\r\n",
    "\r\n",
    "n_inputs = vgg16.classifier[6].in_features\r\n",
    "\r\n",
    "# add last linear layer (n_inputs -> 5 flower classes)\r\n",
    "# new layers automatically have requires_grad = True\r\n",
    "last_layer = nn.Linear(n_inputs, len(classes))\r\n",
    "\r\n",
    "vgg16.classifier[6] = last_layer\r\n",
    "\r\n",
    "# if GPU is available, move the model to GPU\r\n",
    "if train_on_gpu:\r\n",
    "    vgg16.cuda()\r\n",
    "\r\n",
    "# check to see that your last layer produces the expected number of outputs\r\n",
    "print(vgg16.classifier[6].out_features)\r\n",
    "#print(vgg16)"
   ],
   "outputs": [
    {
     "output_type": "stream",
     "name": "stdout",
     "text": [
      "4\n"
     ]
    }
   ],
   "metadata": {}
  },
  {
   "cell_type": "code",
   "execution_count": 9,
   "source": [
    "import torch.optim as optim\r\n",
    "\r\n",
    "# specify loss function (categorical cross-entropy)\r\n",
    "criterion = nn.CrossEntropyLoss()\r\n",
    "\r\n",
    "# specify optimizer (stochastic gradient descent) and learning rate = 0.001\r\n",
    "optimizer = optim.SGD(vgg16.classifier.parameters(), lr=0.001)"
   ],
   "outputs": [],
   "metadata": {}
  },
  {
   "cell_type": "code",
   "execution_count": 10,
   "source": [
    "import numpy as np\r\n",
    "\r\n",
    "# number of epochs to train the model\r\n",
    "n_epochs = 32 # you may increase this number to train a final model\r\n",
    "\r\n",
    "valid_loss_min = np.Inf # track change in validation loss\r\n",
    "train_losses, test_losses = [], []\r\n",
    "\r\n",
    "\r\n",
    "for epoch in range(1, n_epochs+1):\r\n",
    "\r\n",
    "    # keep track of training and validation loss\r\n",
    "    train_loss = 0.0\r\n",
    "    valid_loss = 0.0\r\n",
    "    \r\n",
    "    ###################\r\n",
    "    # train the model #\r\n",
    "    ###################\r\n",
    "    vgg16.train()\r\n",
    "    for data, target in train_loader:\r\n",
    "        # move tensors to GPU if CUDA is available\r\n",
    "        if train_on_gpu:\r\n",
    "            data, target = data.cuda(), target.cuda()\r\n",
    "        # clear the gradients of all optimized variables\r\n",
    "        optimizer.zero_grad()\r\n",
    "        # forward pass: compute predicted outputs by passing inputs to the model\r\n",
    "        output = vgg16(data)\r\n",
    "        # calculate the batch loss\r\n",
    "        loss = criterion(output, target)\r\n",
    "        # backward pass: compute gradient of the loss with respect to model parameters\r\n",
    "        loss.backward()\r\n",
    "        # perform a single optimization step (parameter update)\r\n",
    "        optimizer.step()\r\n",
    "        # update training loss\r\n",
    "        train_loss += loss.item()*data.size(0)\r\n",
    "        \r\n",
    "        \r\n",
    "    ######################    \r\n",
    "    # validate the model #\r\n",
    "    ######################\r\n",
    "    vgg16.eval()\r\n",
    "    for data, target in valid_loader:\r\n",
    "        # move tensors to GPU if CUDA is available\r\n",
    "        if train_on_gpu:\r\n",
    "            data, target = data.cuda(), target.cuda()\r\n",
    "        # forward pass: compute predicted outputs by passing inputs to the model\r\n",
    "        output = vgg16(data)\r\n",
    "        # calculate the batch loss\r\n",
    "        loss = criterion(output, target)\r\n",
    "        # update average validation loss \r\n",
    "        valid_loss += loss.item()*data.size(0)\r\n",
    "    \r\n",
    "    # calculate average losses\r\n",
    "    train_loss = train_loss/len(train_loader.dataset)\r\n",
    "    valid_loss = valid_loss/len(valid_loader.dataset)\r\n",
    "\r\n",
    "        \r\n",
    "    # print training/validation statistics \r\n",
    "    print('Epoch: {} \\tTraining Loss: {:.6f} \\tValidation Loss: {:.6f}'.format(\r\n",
    "        epoch, train_loss, valid_loss))\r\n",
    "    \r\n",
    "    # save model if validation loss has decreased\r\n",
    "    if valid_loss <= valid_loss_min:\r\n",
    "        print('Validation loss decreased ({:.6f} --> {:.6f}).  Saving model ...'.format(\r\n",
    "        valid_loss_min,\r\n",
    "        valid_loss))\r\n",
    "        torch.save(vgg16.state_dict(), 'model_cifar.pt')\r\n",
    "        valid_loss_min = valid_loss\r\n",
    "    \r\n",
    "    train_losses.append(train_loss/len(train_loader))\r\n",
    "    test_losses.append(valid_loss/len(valid_loader))"
   ],
   "outputs": [
    {
     "output_type": "stream",
     "name": "stderr",
     "text": [
      "C:\\Users\\Selab\\anaconda3\\lib\\site-packages\\torch\\nn\\functional.py:718: UserWarning: Named tensors and all their associated APIs are an experimental feature and subject to change. Please do not use them for anything important until they are released as stable. (Triggered internally at  ..\\c10/core/TensorImpl.h:1156.)\n",
      "  return torch.max_pool2d(input, kernel_size, stride, padding, dilation, ceil_mode)\n"
     ]
    },
    {
     "output_type": "stream",
     "name": "stdout",
     "text": [
      "Epoch: 1 \tTraining Loss: 0.965978 \tValidation Loss: 0.186942\n",
      "Validation loss decreased (inf --> 0.186942).  Saving model ...\n",
      "Epoch: 2 \tTraining Loss: 0.730904 \tValidation Loss: 0.158812\n",
      "Validation loss decreased (0.186942 --> 0.158812).  Saving model ...\n"
     ]
    },
    {
     "output_type": "error",
     "ename": "PermissionError",
     "evalue": "[Errno 13] Permission denied: 'model_cifar.pt'",
     "traceback": [
      "\u001b[1;31m---------------------------------------------------------------------------\u001b[0m",
      "\u001b[1;31mPermissionError\u001b[0m                           Traceback (most recent call last)",
      "\u001b[1;32m~\\AppData\\Local\\Temp/ipykernel_20184/3514088579.py\u001b[0m in \u001b[0;36m<module>\u001b[1;34m\u001b[0m\n\u001b[0;32m     65\u001b[0m         \u001b[0mvalid_loss_min\u001b[0m\u001b[1;33m,\u001b[0m\u001b[1;33m\u001b[0m\u001b[1;33m\u001b[0m\u001b[0m\n\u001b[0;32m     66\u001b[0m         valid_loss))\n\u001b[1;32m---> 67\u001b[1;33m         \u001b[0mtorch\u001b[0m\u001b[1;33m.\u001b[0m\u001b[0msave\u001b[0m\u001b[1;33m(\u001b[0m\u001b[0mvgg16\u001b[0m\u001b[1;33m.\u001b[0m\u001b[0mstate_dict\u001b[0m\u001b[1;33m(\u001b[0m\u001b[1;33m)\u001b[0m\u001b[1;33m,\u001b[0m \u001b[1;34m'model_cifar.pt'\u001b[0m\u001b[1;33m)\u001b[0m\u001b[1;33m\u001b[0m\u001b[1;33m\u001b[0m\u001b[0m\n\u001b[0m\u001b[0;32m     68\u001b[0m         \u001b[0mvalid_loss_min\u001b[0m \u001b[1;33m=\u001b[0m \u001b[0mvalid_loss\u001b[0m\u001b[1;33m\u001b[0m\u001b[1;33m\u001b[0m\u001b[0m\n\u001b[0;32m     69\u001b[0m \u001b[1;33m\u001b[0m\u001b[0m\n",
      "\u001b[1;32m~\\anaconda3\\lib\\site-packages\\torch\\serialization.py\u001b[0m in \u001b[0;36msave\u001b[1;34m(obj, f, pickle_module, pickle_protocol, _use_new_zipfile_serialization)\u001b[0m\n\u001b[0;32m    374\u001b[0m     \u001b[0m_check_dill_version\u001b[0m\u001b[1;33m(\u001b[0m\u001b[0mpickle_module\u001b[0m\u001b[1;33m)\u001b[0m\u001b[1;33m\u001b[0m\u001b[1;33m\u001b[0m\u001b[0m\n\u001b[0;32m    375\u001b[0m \u001b[1;33m\u001b[0m\u001b[0m\n\u001b[1;32m--> 376\u001b[1;33m     \u001b[1;32mwith\u001b[0m \u001b[0m_open_file_like\u001b[0m\u001b[1;33m(\u001b[0m\u001b[0mf\u001b[0m\u001b[1;33m,\u001b[0m \u001b[1;34m'wb'\u001b[0m\u001b[1;33m)\u001b[0m \u001b[1;32mas\u001b[0m \u001b[0mopened_file\u001b[0m\u001b[1;33m:\u001b[0m\u001b[1;33m\u001b[0m\u001b[1;33m\u001b[0m\u001b[0m\n\u001b[0m\u001b[0;32m    377\u001b[0m         \u001b[1;32mif\u001b[0m \u001b[0m_use_new_zipfile_serialization\u001b[0m\u001b[1;33m:\u001b[0m\u001b[1;33m\u001b[0m\u001b[1;33m\u001b[0m\u001b[0m\n\u001b[0;32m    378\u001b[0m             \u001b[1;32mwith\u001b[0m \u001b[0m_open_zipfile_writer\u001b[0m\u001b[1;33m(\u001b[0m\u001b[0mopened_file\u001b[0m\u001b[1;33m)\u001b[0m \u001b[1;32mas\u001b[0m \u001b[0mopened_zipfile\u001b[0m\u001b[1;33m:\u001b[0m\u001b[1;33m\u001b[0m\u001b[1;33m\u001b[0m\u001b[0m\n",
      "\u001b[1;32m~\\anaconda3\\lib\\site-packages\\torch\\serialization.py\u001b[0m in \u001b[0;36m_open_file_like\u001b[1;34m(name_or_buffer, mode)\u001b[0m\n\u001b[0;32m    228\u001b[0m \u001b[1;32mdef\u001b[0m \u001b[0m_open_file_like\u001b[0m\u001b[1;33m(\u001b[0m\u001b[0mname_or_buffer\u001b[0m\u001b[1;33m,\u001b[0m \u001b[0mmode\u001b[0m\u001b[1;33m)\u001b[0m\u001b[1;33m:\u001b[0m\u001b[1;33m\u001b[0m\u001b[1;33m\u001b[0m\u001b[0m\n\u001b[0;32m    229\u001b[0m     \u001b[1;32mif\u001b[0m \u001b[0m_is_path\u001b[0m\u001b[1;33m(\u001b[0m\u001b[0mname_or_buffer\u001b[0m\u001b[1;33m)\u001b[0m\u001b[1;33m:\u001b[0m\u001b[1;33m\u001b[0m\u001b[1;33m\u001b[0m\u001b[0m\n\u001b[1;32m--> 230\u001b[1;33m         \u001b[1;32mreturn\u001b[0m \u001b[0m_open_file\u001b[0m\u001b[1;33m(\u001b[0m\u001b[0mname_or_buffer\u001b[0m\u001b[1;33m,\u001b[0m \u001b[0mmode\u001b[0m\u001b[1;33m)\u001b[0m\u001b[1;33m\u001b[0m\u001b[1;33m\u001b[0m\u001b[0m\n\u001b[0m\u001b[0;32m    231\u001b[0m     \u001b[1;32melse\u001b[0m\u001b[1;33m:\u001b[0m\u001b[1;33m\u001b[0m\u001b[1;33m\u001b[0m\u001b[0m\n\u001b[0;32m    232\u001b[0m         \u001b[1;32mif\u001b[0m \u001b[1;34m'w'\u001b[0m \u001b[1;32min\u001b[0m \u001b[0mmode\u001b[0m\u001b[1;33m:\u001b[0m\u001b[1;33m\u001b[0m\u001b[1;33m\u001b[0m\u001b[0m\n",
      "\u001b[1;32m~\\anaconda3\\lib\\site-packages\\torch\\serialization.py\u001b[0m in \u001b[0;36m__init__\u001b[1;34m(self, name, mode)\u001b[0m\n\u001b[0;32m    209\u001b[0m \u001b[1;32mclass\u001b[0m \u001b[0m_open_file\u001b[0m\u001b[1;33m(\u001b[0m\u001b[0m_opener\u001b[0m\u001b[1;33m)\u001b[0m\u001b[1;33m:\u001b[0m\u001b[1;33m\u001b[0m\u001b[1;33m\u001b[0m\u001b[0m\n\u001b[0;32m    210\u001b[0m     \u001b[1;32mdef\u001b[0m \u001b[0m__init__\u001b[0m\u001b[1;33m(\u001b[0m\u001b[0mself\u001b[0m\u001b[1;33m,\u001b[0m \u001b[0mname\u001b[0m\u001b[1;33m,\u001b[0m \u001b[0mmode\u001b[0m\u001b[1;33m)\u001b[0m\u001b[1;33m:\u001b[0m\u001b[1;33m\u001b[0m\u001b[1;33m\u001b[0m\u001b[0m\n\u001b[1;32m--> 211\u001b[1;33m         \u001b[0msuper\u001b[0m\u001b[1;33m(\u001b[0m\u001b[0m_open_file\u001b[0m\u001b[1;33m,\u001b[0m \u001b[0mself\u001b[0m\u001b[1;33m)\u001b[0m\u001b[1;33m.\u001b[0m\u001b[0m__init__\u001b[0m\u001b[1;33m(\u001b[0m\u001b[0mopen\u001b[0m\u001b[1;33m(\u001b[0m\u001b[0mname\u001b[0m\u001b[1;33m,\u001b[0m \u001b[0mmode\u001b[0m\u001b[1;33m)\u001b[0m\u001b[1;33m)\u001b[0m\u001b[1;33m\u001b[0m\u001b[1;33m\u001b[0m\u001b[0m\n\u001b[0m\u001b[0;32m    212\u001b[0m \u001b[1;33m\u001b[0m\u001b[0m\n\u001b[0;32m    213\u001b[0m     \u001b[1;32mdef\u001b[0m \u001b[0m__exit__\u001b[0m\u001b[1;33m(\u001b[0m\u001b[0mself\u001b[0m\u001b[1;33m,\u001b[0m \u001b[1;33m*\u001b[0m\u001b[0margs\u001b[0m\u001b[1;33m)\u001b[0m\u001b[1;33m:\u001b[0m\u001b[1;33m\u001b[0m\u001b[1;33m\u001b[0m\u001b[0m\n",
      "\u001b[1;31mPermissionError\u001b[0m: [Errno 13] Permission denied: 'model_cifar.pt'"
     ]
    }
   ],
   "metadata": {}
  },
  {
   "cell_type": "code",
   "execution_count": null,
   "source": [
    "%matplotlib inline\r\n",
    "%config InlineBackend.figure_format = 'retina'\r\n",
    "\r\n",
    "import matplotlib.pyplot as plt\r\n",
    "plt.plot(train_losses, label='Training loss')\r\n",
    "plt.plot(test_losses, label='Validation loss')\r\n",
    "plt.legend(frameon=False)"
   ],
   "outputs": [
    {
     "output_type": "execute_result",
     "data": {
      "text/plain": [
       "<matplotlib.legend.Legend at 0x1dea3395760>"
      ]
     },
     "metadata": {},
     "execution_count": 13
    },
    {
     "output_type": "display_data",
     "data": {
      "image/png": "[encoded data removed]",
      "text/plain": [
       "<Figure size 432x288 with 1 Axes>"
      ]
     },
     "metadata": {
      "image/png": {
       "width": 384,
       "height": 248
      },
      "needs_background": "light"
     }
    }
   ],
   "metadata": {}
  },
  {
   "cell_type": "code",
   "execution_count": null,
   "source": [
    "# track test loss \r\n",
    "# over 5 flower classes\r\n",
    "test_loss = 0.0\r\n",
    "class_correct = list(0. for i in range(4))\r\n",
    "class_total = list(0. for i in range(4))\r\n",
    "\r\n",
    "vgg16.eval() # eval mode\r\n",
    "\r\n",
    "# iterate over test data\r\n",
    "for data, target in test_loader:\r\n",
    "    # move tensors to GPU if CUDA is available\r\n",
    "    if train_on_gpu:\r\n",
    "        data, target = data.cuda(), target.cuda()\r\n",
    "    # forward pass: compute predicted outputs by passing inputs to the model\r\n",
    "    output = vgg16(data)\r\n",
    "    # calculate the batch loss\r\n",
    "    loss = criterion(output, target)\r\n",
    "    # update  test loss \r\n",
    "    test_loss += loss.item()*data.size(0)\r\n",
    "    # convert output probabilities to predicted class\r\n",
    "    _, pred = torch.max(output, 1)    \r\n",
    "    # compare predictions to true label\r\n",
    "    correct_tensor = pred.eq(target.data.view_as(pred))\r\n",
    "    correct = np.squeeze(correct_tensor.numpy()) if not train_on_gpu else np.squeeze(correct_tensor.cpu().numpy())\r\n",
    "    # calculate test accuracy for each object class\r\n",
    "    for i in range(batch_size):\r\n",
    "        label = target.data[i]\r\n",
    "        class_correct[label] += correct[i].item()\r\n",
    "        class_total[label] += 1\r\n",
    "\r\n",
    "# calculate avg test loss\r\n",
    "test_loss = test_loss/len(test_loader.dataset)\r\n",
    "print('Test Loss: {:.6f}\\n'.format(test_loss))\r\n",
    "\r\n",
    "for i in range(4):\r\n",
    "    if class_total[i] > 0:\r\n",
    "        print('Test Accuracy of %5s: %2d%% (%2d/%2d)' % (\r\n",
    "            classes[i], 100 * class_correct[i] / class_total[i],\r\n",
    "            np.sum(class_correct[i]), np.sum(class_total[i])))\r\n",
    "    else:\r\n",
    "        print('Test Accuracy of %5s: N/A (no training examples)' % (classes[i]))\r\n",
    "\r\n",
    "print('\\nTest Accuracy (Overall): %2d%% (%2d/%2d)' % (\r\n",
    "    100. * np.sum(class_correct) / np.sum(class_total),\r\n",
    "    np.sum(class_correct), np.sum(class_total)))"
   ],
   "outputs": [
    {
     "output_type": "stream",
     "name": "stdout",
     "text": [
      "Test Loss: 0.491990\n",
      "\n",
      "Test Accuracy of Apple_pie: 85% (213/250)\n",
      "Test Accuracy of Chicken_wings: 83% (208/250)\n",
      "Test Accuracy of Salmon: 78% (196/250)\n",
      "Test Accuracy of Steak: 79% (198/250)\n",
      "\n",
      "Test Accuracy (Overall): 81% (815/1000)\n"
     ]
    }
   ],
   "metadata": {}
  },
  {
   "cell_type": "code",
   "execution_count": null,
   "source": [],
   "outputs": [],
   "metadata": {}
  }
 ],
 "metadata": {
  "orig_nbformat": 4,
  "language_info": {
   "name": "python",
   "version": "3.8.8",
   "mimetype": "text/x-python",
   "codemirror_mode": {
    "name": "ipython",
    "version": 3
   },
   "pygments_lexer": "ipython3",
   "nbconvert_exporter": "python",
   "file_extension": ".py"
  },
  "kernelspec": {
   "name": "python3",
   "display_name": "Python 3.8.8 64-bit ('base': conda)"
  },
  "interpreter": {
   "hash": "c53bc2405d72b1cf91c94be0cd1f862d865d15c93978e9eb7bd40a9dcadfa866"
  }
 },
 "nbformat": 4,
 "nbformat_minor": 2
}